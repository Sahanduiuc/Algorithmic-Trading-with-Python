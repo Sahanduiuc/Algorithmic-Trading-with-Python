{
 "cells": [
  {
   "cell_type": "code",
   "execution_count": 1,
   "metadata": {},
   "outputs": [],
   "source": [
    "def print_menu():\n",
    "    print(\"1. 연락처 입력\")\n",
    "    print(\"2. 연락처 출력\")\n",
    "    print(\"3. 연락처 삭제\")\n",
    "    print(\"4. 종료\")\n",
    "    menu = input(\"메뉴선택: \")\n",
    "    return int(menu)\n",
    "\n",
    "def run():\n",
    "    while 1:\n",
    "        menu = print_menu()\n",
    "        if menu == 4:\n",
    "            break"
   ]
  },
  {
   "cell_type": "code",
   "execution_count": 5,
   "metadata": {},
   "outputs": [
    {
     "name": "stdout",
     "output_type": "stream",
     "text": [
      "1. 연락처 입력\n",
      "2. 연락처 출력\n",
      "3. 연락처 삭제\n",
      "4. 종료\n",
      "메뉴선택: 01048478113\n",
      "1. 연락처 입력\n",
      "2. 연락처 출력\n",
      "3. 연락처 삭제\n",
      "4. 종료\n",
      "메뉴선택: 2\n",
      "1. 연락처 입력\n",
      "2. 연락처 출력\n",
      "3. 연락처 삭제\n",
      "4. 종료\n",
      "메뉴선택: 3\n",
      "1. 연락처 입력\n",
      "2. 연락처 출력\n",
      "3. 연락처 삭제\n",
      "4. 종료\n",
      "메뉴선택: 4\n"
     ]
    }
   ],
   "source": [
    "run()"
   ]
  },
  {
   "cell_type": "code",
   "execution_count": null,
   "metadata": {},
   "outputs": [],
   "source": []
  }
 ],
 "metadata": {
  "kernelspec": {
   "display_name": "Python 3",
   "language": "python",
   "name": "python3"
  },
  "language_info": {
   "codemirror_mode": {
    "name": "ipython",
    "version": 3
   },
   "file_extension": ".py",
   "mimetype": "text/x-python",
   "name": "python",
   "nbconvert_exporter": "python",
   "pygments_lexer": "ipython3",
   "version": "3.6.5"
  }
 },
 "nbformat": 4,
 "nbformat_minor": 2
}
