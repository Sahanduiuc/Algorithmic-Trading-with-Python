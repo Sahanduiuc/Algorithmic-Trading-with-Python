{
 "cells": [
  {
   "cell_type": "code",
   "execution_count": 1,
   "metadata": {},
   "outputs": [
    {
     "name": "stdout",
     "output_type": "stream",
     "text": [
      "Name: 김진호\n",
      "Phone Number: 010-4847-8113\n",
      "E-mail: rlawlsgh8113@naver.com\n",
      "Address: Seoul\n",
      "김진호 010-4847-8113 rlawlsgh8113@naver.com Seoul\n"
     ]
    }
   ],
   "source": [
    "class Contact:\n",
    "    def __init__(self, name, phone_number, e_mail, addr):\n",
    "        self.name = name\n",
    "        self.phone_number = phone_number\n",
    "        self.e_mail = e_mail\n",
    "        self.addr = addr\n",
    "\n",
    "    def print_info(self):\n",
    "        print(\"Name: \", self.name)\n",
    "        print(\"Phone Number: \", self.phone_number)\n",
    "        print(\"E-mail: \", self.e_mail)\n",
    "        print(\"Address: \", self.addr)\n",
    "\n",
    "def set_contact():\n",
    "    name = input(\"Name: \")\n",
    "    phone_number = input(\"Phone Number: \")\n",
    "    e_mail = input(\"E-mail: \")\n",
    "    addr = input(\"Address: \")\n",
    "    print(name, phone_number, e_mail, addr)\n",
    "\n",
    "def run():\n",
    "    set_contact()\n",
    "\n",
    "if __name__ == \"__main__\":\n",
    "    run()"
   ]
  },
  {
   "cell_type": "code",
   "execution_count": null,
   "metadata": {},
   "outputs": [],
   "source": []
  }
 ],
 "metadata": {
  "kernelspec": {
   "display_name": "Python 3",
   "language": "python",
   "name": "python3"
  },
  "language_info": {
   "codemirror_mode": {
    "name": "ipython",
    "version": 3
   },
   "file_extension": ".py",
   "mimetype": "text/x-python",
   "name": "python",
   "nbconvert_exporter": "python",
   "pygments_lexer": "ipython3",
   "version": "3.6.5"
  }
 },
 "nbformat": 4,
 "nbformat_minor": 2
}
